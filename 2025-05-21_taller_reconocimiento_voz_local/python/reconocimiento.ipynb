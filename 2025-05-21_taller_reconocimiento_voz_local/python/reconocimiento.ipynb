{
 "cells": [
  {
   "cell_type": "markdown",
   "id": "e0ff52c6",
   "metadata": {},
   "source": [
    "Reconocimiento de voz"
   ]
  },
  {
   "cell_type": "code",
   "execution_count": 2,
   "id": "83bbd822",
   "metadata": {},
   "outputs": [],
   "source": [
    "import speech_recognition as sr\n",
    "\n",
    "def reconocer_comando():\n",
    "    r = sr.Recognizer()\n",
    "    with sr.Microphone() as source:\n",
    "        print(\"Habla ahora...\")\n",
    "        audio = r.listen(source)\n",
    "\n",
    "    try:\n",
    "        texto = r.recognize_sphinx(audio, language=\"es-ES\")  # Español\n",
    "        print(f\"Comando reconocido: {texto}\")\n",
    "        return texto.lower()\n",
    "    except sr.UnknownValueError:\n",
    "        print(\"No se entendió el audio.\")\n",
    "        return \"\"\n",
    "    except sr.RequestError as e:\n",
    "        print(f\"Error con Sphinx: {e}\")\n",
    "        return \"\"\n"
   ]
  },
  {
   "cell_type": "markdown",
   "id": "12b38fba",
   "metadata": {},
   "source": [
    "Diccionario de Comandos"
   ]
  },
  {
   "cell_type": "code",
   "execution_count": 1,
   "id": "e206130d",
   "metadata": {},
   "outputs": [],
   "source": [
    "comandos = {\n",
    "    \"rojo\": \"color_rojo\",\n",
    "    \"azul\": \"color_azul\",\n",
    "    \"girar\": \"accion_girar\",\n",
    "    \"iniciar\": \"accion_iniciar\",\n",
    "    \"detener\": \"accion_detener\"\n",
    "}\n"
   ]
  },
  {
   "cell_type": "markdown",
   "id": "aa29934d",
   "metadata": {},
   "source": [
    "Visualización simple en Pygame"
   ]
  },
  {
   "cell_type": "code",
   "execution_count": 4,
   "id": "7f2e3f13",
   "metadata": {},
   "outputs": [
    {
     "name": "stdout",
     "output_type": "stream",
     "text": [
      "pygame 2.6.1 (SDL 2.28.4, Python 3.12.7)\n",
      "Hello from the pygame community. https://www.pygame.org/contribute.html\n"
     ]
    }
   ],
   "source": [
    "import pygame\n",
    "\n",
    "\n",
    "def actualizar_visualizacion(accion):\n",
    "    global color, angulo\n",
    "    if accion == \"color_rojo\":\n",
    "        color = (255, 0, 0)\n",
    "    elif accion == \"color_azul\":\n",
    "        color = (0, 0, 255)\n",
    "    elif accion == \"accion_girar\":\n",
    "        angulo += 30\n",
    "    elif accion == \"accion_iniciar\":\n",
    "        print(\"Inicio...\")\n",
    "    elif accion == \"accion_detener\":\n",
    "        print(\"Detenido.\")\n",
    "\n",
    "def loop_visual():\n",
    "    pygame.init()\n",
    "    screen = pygame.display.set_mode((640, 480))\n",
    "    pygame.display.set_caption(\"Visualización Pygame\")\n",
    "    clock = pygame.time.Clock()\n",
    "    running = True\n",
    "\n",
    "    while running:\n",
    "        for event in pygame.event.get():\n",
    "            if event.type == pygame.QUIT:\n",
    "                running = False\n",
    "\n",
    "        screen.fill((30, 30, 30))  # Fondo gris oscuro\n",
    "\n",
    "        # Aquí puedes dibujar lo que quieras\n",
    "        pygame.draw.circle(screen, (0, 200, 255), (320, 240), 80)\n",
    "\n",
    "        pygame.display.flip()\n",
    "        clock.tick(60)  # Limita a 60 FPS\n",
    "\n",
    "    pygame.quit()"
   ]
  },
  {
   "cell_type": "code",
   "execution_count": 6,
   "id": "b1abe3f1",
   "metadata": {},
   "outputs": [
    {
     "ename": "AttributeError",
     "evalue": "Could not find PyAudio; check installation",
     "output_type": "error",
     "traceback": [
      "\u001b[31m---------------------------------------------------------------------------\u001b[39m",
      "\u001b[31mModuleNotFoundError\u001b[39m                       Traceback (most recent call last)",
      "\u001b[36mFile \u001b[39m\u001b[32m/var/data/python/lib/python3.12/site-packages/speech_recognition/__init__.py:103\u001b[39m, in \u001b[36mMicrophone.get_pyaudio\u001b[39m\u001b[34m()\u001b[39m\n\u001b[32m    102\u001b[39m \u001b[38;5;28;01mtry\u001b[39;00m:\n\u001b[32m--> \u001b[39m\u001b[32m103\u001b[39m     \u001b[38;5;28;01mimport\u001b[39;00m \u001b[34;01mpyaudio\u001b[39;00m\n\u001b[32m    104\u001b[39m \u001b[38;5;28;01mexcept\u001b[39;00m \u001b[38;5;167;01mImportError\u001b[39;00m:\n",
      "\u001b[31mModuleNotFoundError\u001b[39m: No module named 'pyaudio'",
      "\nDuring handling of the above exception, another exception occurred:\n",
      "\u001b[31mAttributeError\u001b[39m                            Traceback (most recent call last)",
      "\u001b[36mCell\u001b[39m\u001b[36m \u001b[39m\u001b[32mIn[6]\u001b[39m\u001b[32m, line 8\u001b[39m\n\u001b[32m      5\u001b[39m visual_thread.start()\n\u001b[32m      7\u001b[39m \u001b[38;5;28;01mwhile\u001b[39;00m \u001b[38;5;28;01mTrue\u001b[39;00m:\n\u001b[32m----> \u001b[39m\u001b[32m8\u001b[39m     comando_voz = \u001b[43mreconocer_comando\u001b[49m\u001b[43m(\u001b[49m\u001b[43m)\u001b[49m\n\u001b[32m      9\u001b[39m     \u001b[38;5;28;01mif\u001b[39;00m comando_voz \u001b[38;5;129;01min\u001b[39;00m comandos:\n\u001b[32m     10\u001b[39m         accion = comandos[comando_voz]\n",
      "\u001b[36mCell\u001b[39m\u001b[36m \u001b[39m\u001b[32mIn[2]\u001b[39m\u001b[32m, line 5\u001b[39m, in \u001b[36mreconocer_comando\u001b[39m\u001b[34m()\u001b[39m\n\u001b[32m      3\u001b[39m \u001b[38;5;28;01mdef\u001b[39;00m \u001b[34mreconocer_comando\u001b[39m():\n\u001b[32m      4\u001b[39m     r = sr.Recognizer()\n\u001b[32m----> \u001b[39m\u001b[32m5\u001b[39m     \u001b[38;5;28;01mwith\u001b[39;00m \u001b[43msr\u001b[49m\u001b[43m.\u001b[49m\u001b[43mMicrophone\u001b[49m\u001b[43m(\u001b[49m\u001b[43m)\u001b[49m \u001b[38;5;28;01mas\u001b[39;00m source:\n\u001b[32m      6\u001b[39m         \u001b[38;5;28mprint\u001b[39m(\u001b[33m\"\u001b[39m\u001b[33mHabla ahora...\u001b[39m\u001b[33m\"\u001b[39m)\n\u001b[32m      7\u001b[39m         audio = r.listen(source)\n",
      "\u001b[36mFile \u001b[39m\u001b[32m/var/data/python/lib/python3.12/site-packages/speech_recognition/__init__.py:75\u001b[39m, in \u001b[36mMicrophone.__init__\u001b[39m\u001b[34m(self, device_index, sample_rate, chunk_size)\u001b[39m\n\u001b[32m     72\u001b[39m \u001b[38;5;28;01massert\u001b[39;00m \u001b[38;5;28misinstance\u001b[39m(chunk_size, \u001b[38;5;28mint\u001b[39m) \u001b[38;5;129;01mand\u001b[39;00m chunk_size > \u001b[32m0\u001b[39m, \u001b[33m\"\u001b[39m\u001b[33mChunk size must be a positive integer\u001b[39m\u001b[33m\"\u001b[39m\n\u001b[32m     74\u001b[39m \u001b[38;5;66;03m# set up PyAudio\u001b[39;00m\n\u001b[32m---> \u001b[39m\u001b[32m75\u001b[39m \u001b[38;5;28mself\u001b[39m.pyaudio_module = \u001b[38;5;28;43mself\u001b[39;49m\u001b[43m.\u001b[49m\u001b[43mget_pyaudio\u001b[49m\u001b[43m(\u001b[49m\u001b[43m)\u001b[49m\n\u001b[32m     76\u001b[39m audio = \u001b[38;5;28mself\u001b[39m.pyaudio_module.PyAudio()\n\u001b[32m     77\u001b[39m \u001b[38;5;28;01mtry\u001b[39;00m:\n",
      "\u001b[36mFile \u001b[39m\u001b[32m/var/data/python/lib/python3.12/site-packages/speech_recognition/__init__.py:105\u001b[39m, in \u001b[36mMicrophone.get_pyaudio\u001b[39m\u001b[34m()\u001b[39m\n\u001b[32m    103\u001b[39m     \u001b[38;5;28;01mimport\u001b[39;00m \u001b[34;01mpyaudio\u001b[39;00m\n\u001b[32m    104\u001b[39m \u001b[38;5;28;01mexcept\u001b[39;00m \u001b[38;5;167;01mImportError\u001b[39;00m:\n\u001b[32m--> \u001b[39m\u001b[32m105\u001b[39m     \u001b[38;5;28;01mraise\u001b[39;00m \u001b[38;5;167;01mAttributeError\u001b[39;00m(\u001b[33m\"\u001b[39m\u001b[33mCould not find PyAudio; check installation\u001b[39m\u001b[33m\"\u001b[39m)\n\u001b[32m    106\u001b[39m \u001b[38;5;28;01mreturn\u001b[39;00m pyaudio\n",
      "\u001b[31mAttributeError\u001b[39m: Could not find PyAudio; check installation"
     ]
    }
   ],
   "source": [
    "if __name__ == \"__main__\":\n",
    "    import threading\n",
    "\n",
    "    visual_thread = threading.Thread(target=loop_visual)\n",
    "    visual_thread.start()\n",
    "\n",
    "    while True:\n",
    "        comando_voz = reconocer_comando()\n",
    "        if comando_voz in comandos:\n",
    "            accion = comandos[comando_voz]\n",
    "            actualizar_visualizacion(accion)\n",
    "            \n"
   ]
  }
 ],
 "metadata": {
  "kernelspec": {
   "display_name": "base",
   "language": "python",
   "name": "python3"
  },
  "language_info": {
   "codemirror_mode": {
    "name": "ipython",
    "version": 3
   },
   "file_extension": ".py",
   "mimetype": "text/x-python",
   "name": "python",
   "nbconvert_exporter": "python",
   "pygments_lexer": "ipython3",
   "version": "3.12.7"
  }
 },
 "nbformat": 4,
 "nbformat_minor": 5
}
