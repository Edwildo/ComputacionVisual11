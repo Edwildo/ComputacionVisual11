{
 "cells": [
  {
   "cell_type": "code",
   "execution_count": 3,
   "id": "a20e6557",
   "metadata": {},
   "outputs": [
    {
     "name": "stderr",
     "output_type": "stream",
     "text": [
      "ERROR: Could not find a version that satisfies the requirement mediapipe==0.10.9 (from versions: 0.10.13, 0.10.14, 0.10.18, 0.10.20, 0.10.21)\n",
      "ERROR: No matching distribution found for mediapipe==0.10.9\n"
     ]
    },
    {
     "ename": "ModuleNotFoundError",
     "evalue": "No module named 'mediapipe'",
     "output_type": "error",
     "traceback": [
      "\u001b[31m---------------------------------------------------------------------------\u001b[39m",
      "\u001b[31mModuleNotFoundError\u001b[39m                       Traceback (most recent call last)",
      "\u001b[36mCell\u001b[39m\u001b[36m \u001b[39m\u001b[32mIn[3]\u001b[39m\u001b[32m, line 4\u001b[39m\n\u001b[32m      1\u001b[39m get_ipython().system(\u001b[33m'\u001b[39m\u001b[33mpip install --upgrade mediapipe==0.10.9 opencv-python numpy pygame --quiet\u001b[39m\u001b[33m'\u001b[39m)\n\u001b[32m      3\u001b[39m \u001b[38;5;28;01mimport\u001b[39;00m\u001b[38;5;250m \u001b[39m\u001b[34;01mcv2\u001b[39;00m\n\u001b[32m----> \u001b[39m\u001b[32m4\u001b[39m \u001b[38;5;28;01mimport\u001b[39;00m\u001b[38;5;250m \u001b[39m\u001b[34;01mmediapipe\u001b[39;00m\u001b[38;5;250m \u001b[39m\u001b[38;5;28;01mas\u001b[39;00m\u001b[38;5;250m \u001b[39m\u001b[34;01mmp\u001b[39;00m\n\u001b[32m      5\u001b[39m \u001b[38;5;28;01mimport\u001b[39;00m\u001b[38;5;250m \u001b[39m\u001b[34;01mnumpy\u001b[39;00m\u001b[38;5;250m \u001b[39m\u001b[38;5;28;01mas\u001b[39;00m\u001b[38;5;250m \u001b[39m\u001b[34;01mnp\u001b[39;00m\n\u001b[32m      7\u001b[39m mp_pose = mp.solutions.pose\n",
      "\u001b[31mModuleNotFoundError\u001b[39m: No module named 'mediapipe'"
     ]
    }
   ],
   "source": [
    "!pip install --upgrade mediapipe==0.10.9 opencv-python numpy pygame --quiet\n",
    "\n",
    "import cv2\n",
    "import mediapipe as mp\n",
    "import numpy as np\n",
    "\n",
    "mp_pose = mp.solutions.pose\n",
    "mp_drawing = mp.solutions.drawing_utils\n",
    "\n",
    "pose = mp_pose.Pose(static_image_mode=False,\n",
    "                    min_detection_confidence=0.5,\n",
    "                    min_tracking_confidence=0.5)\n",
    "\n",
    "cap = cv2.VideoCapture(0)\n",
    "prev_action = \"\"\n",
    "\n",
    "def get_coords(landmarks, idx, shape):\n",
    "    y = int(landmarks[idx].y * shape[0])\n",
    "    x = int(landmarks[idx].x * shape[1])\n",
    "    return x, y\n",
    "\n",
    "while cap.isOpened():\n",
    "    ret, frame = cap.read()\n",
    "    if not ret:\n",
    "        break\n",
    "\n",
    "    frame = cv2.flip(frame, 1)\n",
    "    rgb = cv2.cvtColor(frame, cv2.COLOR_BGR2RGB)\n",
    "    results = pose.process(rgb)\n",
    "\n",
    "    action = \"\"\n",
    "\n",
    "    if results.pose_landmarks:\n",
    "        mp_drawing.draw_landmarks(frame, results.pose_landmarks, mp_pose.POSE_CONNECTIONS)\n",
    "        lm = results.pose_landmarks.landmark\n",
    "        h, w, _ = frame.shape\n",
    "\n",
    "        # Coordenadas necesarias\n",
    "        nose_x, nose_y = get_coords(lm, mp_pose.PoseLandmark.NOSE, frame.shape)\n",
    "        lw_x, lw_y = get_coords(lm, mp_pose.PoseLandmark.LEFT_WRIST, frame.shape)\n",
    "        rw_x, rw_y = get_coords(lm, mp_pose.PoseLandmark.RIGHT_WRIST, frame.shape)\n",
    "\n",
    "        lh_x, lh_y = get_coords(lm, mp_pose.PoseLandmark.LEFT_HIP, frame.shape)\n",
    "        rh_x, rh_y = get_coords(lm, mp_pose.PoseLandmark.RIGHT_HIP, frame.shape)\n",
    "        lk_x, lk_y = get_coords(lm, mp_pose.PoseLandmark.LEFT_KNEE, frame.shape)\n",
    "        rk_x, rk_y = get_coords(lm, mp_pose.PoseLandmark.RIGHT_KNEE, frame.shape)\n",
    "\n",
    "        ls_x, ls_y = get_coords(lm, mp_pose.PoseLandmark.LEFT_SHOULDER, frame.shape)\n",
    "        rs_x, rs_y = get_coords(lm, mp_pose.PoseLandmark.RIGHT_SHOULDER, frame.shape)\n",
    "\n",
    "        # Reglas de acción\n",
    "        if lw_y < nose_y and rw_y < nose_y:\n",
    "            action = \"Brazos arriba\"\n",
    "        elif lh_y > lk_y and rh_y > rk_y:\n",
    "            action = \"Persona sentada\"\n",
    "        elif (\n",
    "            abs(lw_y - rw_y) < 60 and                           # muñecas a la misma altura\n",
    "            abs(lw_x - rw_x) < 80 and                           # muñecas muy juntas\n",
    "            ls_y < lw_y < lh_y and rs_y < rw_y < rh_y          # entre hombros y caderas\n",
    "        ):\n",
    "            action = \"Brazos cruzados\"\n",
    "\n",
    "        if action and action != prev_action:\n",
    "            print(action)\n",
    "            prev_action = action\n",
    "\n",
    "        if action:\n",
    "            cv2.putText(frame, action, (10, 30), cv2.FONT_HERSHEY_SIMPLEX, 1, (255, 0, 0), 2)\n",
    "\n",
    "    cv2.imshow(\"Reconocimiento de Acciones\", frame)\n",
    "\n",
    "    if cv2.waitKey(10) & 0xFF == ord('q'):\n",
    "        break\n",
    "\n",
    "cap.release()\n",
    "cv2.destroyAllWindows()\n",
    "\n"
   ]
  }
 ],
 "metadata": {
  "kernelspec": {
   "display_name": "Python 3",
   "language": "python",
   "name": "python3"
  },
  "language_info": {
   "codemirror_mode": {
    "name": "ipython",
    "version": 3
   },
   "file_extension": ".py",
   "mimetype": "text/x-python",
   "name": "python",
   "nbconvert_exporter": "python",
   "pygments_lexer": "ipython3",
   "version": "3.12.10"
  }
 },
 "nbformat": 4,
 "nbformat_minor": 5
}
